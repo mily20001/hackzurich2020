{
 "cells": [
  {
   "cell_type": "code",
   "execution_count": 40,
   "metadata": {},
   "outputs": [],
   "source": [
    "import glob\n",
    "import json"
   ]
  },
  {
   "cell_type": "code",
   "execution_count": 41,
   "metadata": {},
   "outputs": [
    {
     "name": "stdout",
     "output_type": "stream",
     "text": [
      "['BEOLO_output.csv.json', 'BEO_output.csv.json']\n"
     ]
    }
   ],
   "source": [
    "available = glob.glob('[!arts|!merged]*.csv.json')\n",
    "print(available)"
   ]
  },
  {
   "cell_type": "code",
   "execution_count": 42,
   "metadata": {
    "scrolled": true
   },
   "outputs": [],
   "source": [
    "for available_file in available:\n",
    "    location_json = json.load(open(available_file, 'rb'))\n",
    "    sentiment_json = json.load(open(f'arts_with_sentiments-{available_file}', 'rb'))\n",
    "    \n",
    "    title_sentiment = {}\n",
    "    \n",
    "    for sentiment in sentiment_json:\n",
    "        title_sentiment[sentiment['title']] = sentiment['sentiment']\n",
    "        \n",
    "    new_locations = []\n",
    "    \n",
    "    for location in location_json:\n",
    "        if location['title'] in title_sentiment.keys():\n",
    "            location['sentiment'] = title_sentiment[location['title']]\n",
    "            new_locations.append(location)\n",
    "    \n",
    "    # location_json = [x for x in location_json if 'sentiment' in x.keys()]\n",
    "    with open(f'merged_{available_file}', 'w') as f:\n",
    "        f.writelines(json.dumps(new_locations, indent=2))"
   ]
  },
  {
   "cell_type": "code",
   "execution_count": null,
   "metadata": {},
   "outputs": [],
   "source": []
  }
 ],
 "metadata": {
  "kernelspec": {
   "display_name": "Python 3",
   "language": "python",
   "name": "python3"
  },
  "language_info": {
   "codemirror_mode": {
    "name": "ipython",
    "version": 3
   },
   "file_extension": ".py",
   "mimetype": "text/x-python",
   "name": "python",
   "nbconvert_exporter": "python",
   "pygments_lexer": "ipython3",
   "version": "3.8.5"
  }
 },
 "nbformat": 4,
 "nbformat_minor": 4
}
