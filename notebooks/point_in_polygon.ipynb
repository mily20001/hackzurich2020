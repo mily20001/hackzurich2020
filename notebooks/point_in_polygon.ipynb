{
 "cells": [
  {
   "cell_type": "code",
   "execution_count": 64,
   "metadata": {},
   "outputs": [],
   "source": [
    "def on_segment(p, q, r):\n",
    "    return q[0] <= max(p[0], r[0]) and q[0] >= min(p[0], r[0]) and q[1] <= max(p[1], r[1]) and q[1] >= min(p[1], r[1]) \n"
   ]
  },
  {
   "cell_type": "code",
   "execution_count": 65,
   "metadata": {},
   "outputs": [],
   "source": [
    "def orientation(p, q, r):\n",
    "    val = (q[1] - p[1]) * (r[0] - q[0]) - (q[0] - p[0]) * (r[1] - q[1])\n",
    "    return 0 if val == 0 else 1 if val > 0 else 2"
   ]
  },
  {
   "cell_type": "code",
   "execution_count": 66,
   "metadata": {},
   "outputs": [],
   "source": [
    "def do_intersect(p1, q1, p2, q2):\n",
    "    o1 = orientation(p1, q1, p2)\n",
    "    o2 = orientation(p1, q1, q2)\n",
    "    o3 = orientation(p2, q2, p1)\n",
    "    o4 = orientation(p2, q2, q1)\n",
    "    \n",
    "    if o1 != o2 and o3 != o4:\n",
    "        return True\n",
    "    if o1 == 0 and on_segment(p1, p2, q1):\n",
    "        return True\n",
    "    if o2 == 0 and on_segment(p1, q2, q1):\n",
    "        return True\n",
    "    if o3 == 0 and on_segment(p2, p1, q2):\n",
    "        return True\n",
    "    if o4 == 0 and on_segment(p2, q1, q2):\n",
    "        return True\n",
    "    return False"
   ]
  },
  {
   "cell_type": "code",
   "execution_count": 67,
   "metadata": {},
   "outputs": [],
   "source": [
    "def is_inside(polygon, n, p):\n",
    "    if n < 3:\n",
    "        return False\n",
    "    extreme = [float(100000), p[1]]\n",
    "    count = 0\n",
    "    i = 0\n",
    "    while True:\n",
    "        nxt = (i + 1) % n\n",
    "        if do_intersect(polygon[i], polygon[nxt], p, extreme):\n",
    "            if orientation(polygon[i], p, polygon[nxt]) == 0:\n",
    "                return on_segment(polygon[i], p, polygon[nxt])\n",
    "            count += 1\n",
    "        i = nxt\n",
    "        if i == 0:\n",
    "            break\n",
    "    return count % 2 == 1"
   ]
  },
  {
   "cell_type": "code",
   "execution_count": 68,
   "metadata": {},
   "outputs": [
    {
     "name": "stdout",
     "output_type": "stream",
     "text": [
      "No\n",
      "Yes\n",
      "Yes\n",
      "Yes\n",
      "No\n",
      "No\n"
     ]
    }
   ],
   "source": [
    "polygon1 = [[0, 0], [10, 0], [10, 10], [0, 10]]\n",
    "n = len(polygon1)\n",
    "p = [20, 20]\n",
    "if is_inside(polygon1, n, p):\n",
    "    print('Yes')\n",
    "else:\n",
    "    print('No')\n",
    "p = [5, 5]\n",
    "if is_inside(polygon1, n, p):\n",
    "    print('Yes')\n",
    "else:\n",
    "    print('No')\n",
    "    \n",
    "polygon2 = [[0, 0], [5, 5], [5, 0]]\n",
    "n = len(polygon2)\n",
    "p = [3, 3]\n",
    "if is_inside(polygon2, n, p):\n",
    "    print('Yes')\n",
    "else:\n",
    "    print('No')\n",
    "p = [5, 1]\n",
    "if is_inside(polygon2, n, p):\n",
    "    print('Yes')\n",
    "else:\n",
    "    print('No')\n",
    "p = [8, 1]\n",
    "if is_inside(polygon2, n, p):\n",
    "    print('Yes')\n",
    "else:\n",
    "    print('No')\n",
    "    \n",
    "    \n",
    "polygon3 = [[0, 0], [10, 0], [10, 10], [0, 10]]\n",
    "n = len(polygon2)\n",
    "p = [-1, 10]\n",
    "if is_inside(polygon3, n, p):\n",
    "    print('Yes')\n",
    "else:\n",
    "    print('No')"
   ]
  }
 ],
 "metadata": {
  "kernelspec": {
   "display_name": "Python 3",
   "language": "python",
   "name": "python3"
  },
  "language_info": {
   "codemirror_mode": {
    "name": "ipython",
    "version": 3
   },
   "file_extension": ".py",
   "mimetype": "text/x-python",
   "name": "python",
   "nbconvert_exporter": "python",
   "pygments_lexer": "ipython3",
   "version": "3.8.5"
  }
 },
 "nbformat": 4,
 "nbformat_minor": 4
}
